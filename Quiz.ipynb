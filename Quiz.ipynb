{
  "nbformat": 4,
  "nbformat_minor": 0,
  "metadata": {
    "colab": {
      "provenance": [],
      "authorship_tag": "ABX9TyNcEGsslluYdNUiytVYpqbL",
      "include_colab_link": true
    },
    "kernelspec": {
      "name": "python3",
      "display_name": "Python 3"
    },
    "language_info": {
      "name": "python"
    }
  },
  "cells": [
    {
      "cell_type": "markdown",
      "metadata": {
        "id": "view-in-github",
        "colab_type": "text"
      },
      "source": [
        "<a href=\"https://colab.research.google.com/github/pbar8017/FridayApp/blob/main/Quiz.ipynb\" target=\"_parent\"><img src=\"https://colab.research.google.com/assets/colab-badge.svg\" alt=\"Open In Colab\"/></a>"
      ]
    },
    {
      "cell_type": "markdown",
      "source": [
        "Quiz Bot"
      ],
      "metadata": {
        "id": "nXnAgnFDvAGt"
      }
    },
    {
      "cell_type": "code",
      "source": [
        "!pip install flask flask-ngrok"
      ],
      "metadata": {
        "id": "4aQANdByxbWn"
      },
      "execution_count": null,
      "outputs": []
    },
    {
      "cell_type": "code",
      "source": [
        "!python app.py"
      ],
      "metadata": {
        "id": "0XFu32ZLxyrj"
      },
      "execution_count": null,
      "outputs": []
    },
    {
      "cell_type": "code",
      "execution_count": 4,
      "metadata": {
        "colab": {
          "base_uri": "https://localhost:8080/",
          "height": 1000
        },
        "id": "vkl8d6DOtjEK",
        "outputId": "4c4cc750-cdee-4e69-8652-1ffec0c2df20"
      },
      "outputs": [
        {
          "metadata": {
            "tags": null
          },
          "name": "stdout",
          "output_type": "stream",
          "text": [
            "\n",
            "📚 Quiz Bot: Choose an option\n",
            "1️⃣ Take a quiz (entire section)\n",
            "2️⃣ Add a new question\n",
            "3️⃣ View topics\n",
            "4️⃣ Exit\n",
            "\n",
            "📌 Existing Topics: Java, Python\n",
            "\n",
            "📂 Available Sections in Java: Variables, Formatting, Arrays, Operators\n",
            "\n",
            "🎯 Starting quiz for Java -> Variables\n",
            "❌ Incorrect. Correct answer: A container for storing data values.\n",
            "\n",
            "❌ Incorrect. Correct answer: int, double, String, etc.\n",
            "\n",
            "🏆 Quiz Completed! You scored 0/2.\n",
            "\n",
            "📚 Quiz Bot: Choose an option\n",
            "1️⃣ Take a quiz (entire section)\n",
            "2️⃣ Add a new question\n",
            "3️⃣ View topics\n",
            "4️⃣ Exit\n",
            "\n",
            "📌 Existing Topics: Java, Python\n",
            "\n",
            "📂 Available Sections in Java: Variables, Formatting, Arrays, Operators\n",
            "\n",
            "🎯 Starting quiz for Java -> Variables\n",
            "❌ Incorrect. Correct answer: A container for storing data values.\n",
            "\n",
            "✅ Correct!\n",
            "\n",
            "🏆 Quiz Completed! You scored 1/2.\n",
            "\n",
            "📚 Quiz Bot: Choose an option\n",
            "1️⃣ Take a quiz (entire section)\n",
            "2️⃣ Add a new question\n",
            "3️⃣ View topics\n",
            "4️⃣ Exit\n"
          ]
        },
        {
          "output_type": "error",
          "ename": "KeyboardInterrupt",
          "evalue": "Interrupted by user",
          "traceback": [
            "\u001b[0;31m---------------------------------------------------------------------------\u001b[0m",
            "\u001b[0;31mKeyboardInterrupt\u001b[0m                         Traceback (most recent call last)",
            "\u001b[0;32m<ipython-input-4-dc8d77035abd>\u001b[0m in \u001b[0;36m<cell line: 0>\u001b[0;34m()\u001b[0m\n\u001b[1;32m    133\u001b[0m \u001b[0;34m\u001b[0m\u001b[0m\n\u001b[1;32m    134\u001b[0m \u001b[0;31m# Start the quiz bot\u001b[0m\u001b[0;34m\u001b[0m\u001b[0;34m\u001b[0m\u001b[0m\n\u001b[0;32m--> 135\u001b[0;31m \u001b[0mmain\u001b[0m\u001b[0;34m(\u001b[0m\u001b[0;34m)\u001b[0m\u001b[0;34m\u001b[0m\u001b[0;34m\u001b[0m\u001b[0m\n\u001b[0m",
            "\u001b[0;32m<ipython-input-4-dc8d77035abd>\u001b[0m in \u001b[0;36mmain\u001b[0;34m()\u001b[0m\n\u001b[1;32m    100\u001b[0m         \u001b[0mprint\u001b[0m\u001b[0;34m(\u001b[0m\u001b[0;34m\"4️⃣ Exit\"\u001b[0m\u001b[0;34m)\u001b[0m\u001b[0;34m\u001b[0m\u001b[0;34m\u001b[0m\u001b[0m\n\u001b[1;32m    101\u001b[0m \u001b[0;34m\u001b[0m\u001b[0m\n\u001b[0;32m--> 102\u001b[0;31m         \u001b[0mchoice\u001b[0m \u001b[0;34m=\u001b[0m \u001b[0minput\u001b[0m\u001b[0;34m(\u001b[0m\u001b[0;34m\"Enter your choice: \"\u001b[0m\u001b[0;34m)\u001b[0m\u001b[0;34m\u001b[0m\u001b[0;34m\u001b[0m\u001b[0m\n\u001b[0m\u001b[1;32m    103\u001b[0m \u001b[0;34m\u001b[0m\u001b[0m\n\u001b[1;32m    104\u001b[0m         \u001b[0;32mif\u001b[0m \u001b[0mchoice\u001b[0m \u001b[0;34m==\u001b[0m \u001b[0;34m\"1\"\u001b[0m\u001b[0;34m:\u001b[0m\u001b[0;34m\u001b[0m\u001b[0;34m\u001b[0m\u001b[0m\n",
            "\u001b[0;32m/usr/local/lib/python3.11/dist-packages/ipykernel/kernelbase.py\u001b[0m in \u001b[0;36mraw_input\u001b[0;34m(self, prompt)\u001b[0m\n\u001b[1;32m   1175\u001b[0m                 \u001b[0;34m\"raw_input was called, but this frontend does not support input requests.\"\u001b[0m\u001b[0;34m\u001b[0m\u001b[0;34m\u001b[0m\u001b[0m\n\u001b[1;32m   1176\u001b[0m             )\n\u001b[0;32m-> 1177\u001b[0;31m         return self._input_request(\n\u001b[0m\u001b[1;32m   1178\u001b[0m             \u001b[0mstr\u001b[0m\u001b[0;34m(\u001b[0m\u001b[0mprompt\u001b[0m\u001b[0;34m)\u001b[0m\u001b[0;34m,\u001b[0m\u001b[0;34m\u001b[0m\u001b[0;34m\u001b[0m\u001b[0m\n\u001b[1;32m   1179\u001b[0m             \u001b[0mself\u001b[0m\u001b[0;34m.\u001b[0m\u001b[0m_parent_ident\u001b[0m\u001b[0;34m[\u001b[0m\u001b[0;34m\"shell\"\u001b[0m\u001b[0;34m]\u001b[0m\u001b[0;34m,\u001b[0m\u001b[0;34m\u001b[0m\u001b[0;34m\u001b[0m\u001b[0m\n",
            "\u001b[0;32m/usr/local/lib/python3.11/dist-packages/ipykernel/kernelbase.py\u001b[0m in \u001b[0;36m_input_request\u001b[0;34m(self, prompt, ident, parent, password)\u001b[0m\n\u001b[1;32m   1217\u001b[0m             \u001b[0;32mexcept\u001b[0m \u001b[0mKeyboardInterrupt\u001b[0m\u001b[0;34m:\u001b[0m\u001b[0;34m\u001b[0m\u001b[0;34m\u001b[0m\u001b[0m\n\u001b[1;32m   1218\u001b[0m                 \u001b[0;31m# re-raise KeyboardInterrupt, to truncate traceback\u001b[0m\u001b[0;34m\u001b[0m\u001b[0;34m\u001b[0m\u001b[0m\n\u001b[0;32m-> 1219\u001b[0;31m                 \u001b[0;32mraise\u001b[0m \u001b[0mKeyboardInterrupt\u001b[0m\u001b[0;34m(\u001b[0m\u001b[0;34m\"Interrupted by user\"\u001b[0m\u001b[0;34m)\u001b[0m \u001b[0;32mfrom\u001b[0m \u001b[0;32mNone\u001b[0m\u001b[0;34m\u001b[0m\u001b[0;34m\u001b[0m\u001b[0m\n\u001b[0m\u001b[1;32m   1220\u001b[0m             \u001b[0;32mexcept\u001b[0m \u001b[0mException\u001b[0m\u001b[0;34m:\u001b[0m\u001b[0;34m\u001b[0m\u001b[0;34m\u001b[0m\u001b[0m\n\u001b[1;32m   1221\u001b[0m                 \u001b[0mself\u001b[0m\u001b[0;34m.\u001b[0m\u001b[0mlog\u001b[0m\u001b[0;34m.\u001b[0m\u001b[0mwarning\u001b[0m\u001b[0;34m(\u001b[0m\u001b[0;34m\"Invalid Message:\"\u001b[0m\u001b[0;34m,\u001b[0m \u001b[0mexc_info\u001b[0m\u001b[0;34m=\u001b[0m\u001b[0;32mTrue\u001b[0m\u001b[0;34m)\u001b[0m\u001b[0;34m\u001b[0m\u001b[0;34m\u001b[0m\u001b[0m\n",
            "\u001b[0;31mKeyboardInterrupt\u001b[0m: Interrupted by user"
          ]
        }
      ],
      "source": [
        "from flask import Flask, jsonify, request\n",
        "from flask_ngrok import run_with_ngrok  # Enables testing in Colab\n",
        "\n",
        "app = Flask(__name__)\n",
        "run_with_ngrok(app)  # Start ngrok when running the app\n",
        "\n",
        "import random\n",
        "\n",
        "# Dictionary to store quiz questions and answers by topic\n",
        "quiz_data = {\n",
        "    \"Java\": {\n",
        "        \"Variables\": [\n",
        "            {\"question\": \"What is a variable in Java?\", \"answer\": \"A container for storing data values.\"},\n",
        "            {\"question\": \"What keyword is used to declare a variable in Java?\", \"answer\": \"int, double, String, etc.\"}\n",
        "        ],\n",
        "        \"Formatting\": [\n",
        "            {\"question\": \"How do you format a string in Java?\", \"answer\": \"Using String.format() or printf().\"}\n",
        "        ],\n",
        "        \"Arrays\": [\n",
        "            {\"question\": \"How do you declare an array in Java?\", \"answer\": \"int[] numbers = new int[5];\"}\n",
        "        ],\n",
        "        \"Operators\": [\n",
        "            {\"question\": \"What is the modulus operator in Java?\", \"answer\": \"% (remainder operator).\"}\n",
        "        ]\n",
        "    },\n",
        "    \"Python\": {\n",
        "        \"Operators and variables\": [\n",
        "            {\"question\": \"What is an operator in Python?\", \"answer\": \"A symbol that performs an operation on values.\"},\n",
        "            {\"question\": \"What is the difference between = and == in Python?\", \"answer\": \"= assigns a value, == checks equality.\"}\n",
        "        ],\n",
        "        \"Script inputs\": [\n",
        "            {\"question\": \"How do you take user input in Python?\", \"answer\": \"Using the input() function.\"}\n",
        "        ],\n",
        "        \"Strings\": [\n",
        "            {\"question\": \"How do you concatenate two strings in Python?\", \"answer\": \"Using + or f-strings.\"}\n",
        "        ],\n",
        "        \"Formatting\": [\n",
        "            {\"question\": \"How do you format a string in Python?\", \"answer\": \"Using f-strings or format().\"}\n",
        "        ]\n",
        "    }\n",
        "}\n",
        "\n",
        "def list_topics():\n",
        "    \"\"\"Show available topics.\"\"\"\n",
        "    print(\"\\n📌 Existing Topics:\", \", \".join(quiz_data.keys()))\n",
        "\n",
        "def list_sections(topic):\n",
        "    \"\"\"Show available sections in a topic.\"\"\"\n",
        "    if topic in quiz_data:\n",
        "        print(\"\\n📂 Available Sections in\", topic + \":\", \", \".join(quiz_data[topic].keys()))\n",
        "    else:\n",
        "        print(\"❌ Topic not found.\")\n",
        "\n",
        "def quiz_section(topic, section):\n",
        "    \"\"\"Ask all questions from a selected section and calculate the score.\"\"\"\n",
        "    questions = quiz_data.get(topic, {}).get(section, [])\n",
        "\n",
        "    if not questions:\n",
        "        print(\"❌ No questions available for this section.\")\n",
        "        return\n",
        "\n",
        "    print(f\"\\n🎯 Starting quiz for {topic} -> {section}\")\n",
        "    score = 0  # Track correct answers\n",
        "\n",
        "    for i, question_data in enumerate(questions, 1):\n",
        "        user_answer = input(f\"❓ Q{i}: {question_data['question']} \\nYour answer: \").strip()\n",
        "\n",
        "        if user_answer.lower() == question_data['answer'].lower():\n",
        "            print(\"✅ Correct!\\n\")\n",
        "            score += 1\n",
        "        else:\n",
        "            print(f\"❌ Incorrect. Correct answer: {question_data['answer']}\\n\")\n",
        "\n",
        "    total_questions = len(questions)\n",
        "    print(f\"🏆 Quiz Completed! You scored {score}/{total_questions}.\")\n",
        "\n",
        "def add_question():\n",
        "    \"\"\"Allow the user to add a new question and section if needed.\"\"\"\n",
        "    list_topics()  # ✅ Show existing topics first\n",
        "    topic = input(\"\\nEnter a topic name (or create a new one): \").strip()\n",
        "\n",
        "    if topic not in quiz_data:\n",
        "        print(f\"🔹 '{topic}' does not exist. Creating new topic...\")\n",
        "        quiz_data[topic] = {}\n",
        "\n",
        "    list_sections(topic)  # ✅ Show existing sections in the chosen topic\n",
        "    section = input(\"\\nEnter a section name (or create a new one): \").strip()\n",
        "\n",
        "    if section not in quiz_data[topic]:\n",
        "        print(f\"🔹 '{section}' does not exist in {topic}. Creating new section...\")\n",
        "        quiz_data[topic][section] = []\n",
        "\n",
        "    new_question = input(\"\\nEnter the new question: \")\n",
        "    new_answer = input(\"Enter the answer: \")\n",
        "\n",
        "    quiz_data[topic][section].append({\"question\": new_question, \"answer\": new_answer})\n",
        "\n",
        "    print(f\"✅ Question added under {topic} -> {section}.\")\n",
        "\n",
        "def main():\n",
        "    while True:\n",
        "        print(\"\\n📚 Quiz Bot: Choose an option\")\n",
        "        print(\"1️⃣ Take a quiz (entire section)\")\n",
        "        print(\"2️⃣ Add a new question\")\n",
        "        print(\"3️⃣ View topics\")\n",
        "        print(\"4️⃣ Exit\")\n",
        "\n",
        "        choice = input(\"Enter your choice: \")\n",
        "\n",
        "        if choice == \"1\":\n",
        "            list_topics()\n",
        "            topic = input(\"Enter a topic: \").strip()\n",
        "\n",
        "            if topic not in quiz_data:\n",
        "                print(\"❌ Topic not found.\")\n",
        "                continue\n",
        "\n",
        "            list_sections(topic)\n",
        "            section = input(\"Enter a section: \").strip()\n",
        "\n",
        "            if section not in quiz_data[topic]:\n",
        "                print(\"❌ Section not found.\")\n",
        "                continue\n",
        "\n",
        "            quiz_section(topic, section)\n",
        "\n",
        "        elif choice == \"2\":\n",
        "            add_question()\n",
        "\n",
        "        elif choice == \"3\":\n",
        "            list_topics()\n",
        "\n",
        "        elif choice == \"4\":\n",
        "            print(\"👋 Exiting Quiz Bot. Happy Studying!\")\n",
        "            break\n",
        "\n",
        "        else:\n",
        "            print(\"❌ Invalid choice. Try again.\")\n",
        "\n",
        "# Start the quiz bot\n",
        "main()"
      ]
    }
  ]
}